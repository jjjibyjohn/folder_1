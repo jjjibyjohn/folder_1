{
 "cells": [
  {
   "cell_type": "markdown",
   "id": "9d4dae77",
   "metadata": {},
   "source": [
    "# 7. Write a python program to scrape details of all the posts from coreyms.com. Scrape the heading, date, content and the code for the video from the link for the youtube video from the post."
   ]
  },
  {
   "cell_type": "code",
   "execution_count": 1,
   "id": "a254aa79",
   "metadata": {},
   "outputs": [],
   "source": [
    "from bs4 import BeautifulSoup"
   ]
  },
  {
   "cell_type": "code",
   "execution_count": 2,
   "id": "2a5b5ae4",
   "metadata": {},
   "outputs": [],
   "source": [
    "import requests"
   ]
  },
  {
   "cell_type": "code",
   "execution_count": 3,
   "id": "c463aed9",
   "metadata": {},
   "outputs": [],
   "source": [
    "url = 'https://coreyms.com/'"
   ]
  },
  {
   "cell_type": "code",
   "execution_count": 4,
   "id": "cda50c99",
   "metadata": {},
   "outputs": [],
   "source": [
    "site = requests.get(url)"
   ]
  },
  {
   "cell_type": "code",
   "execution_count": 5,
   "id": "3b66e73a",
   "metadata": {},
   "outputs": [
    {
     "data": {
      "text/plain": [
       "<Response [200]>"
      ]
     },
     "execution_count": 5,
     "metadata": {},
     "output_type": "execute_result"
    }
   ],
   "source": [
    "site"
   ]
  },
  {
   "cell_type": "code",
   "execution_count": 6,
   "id": "d67ce27c",
   "metadata": {},
   "outputs": [],
   "source": [
    "bs = BeautifulSoup(site.content)"
   ]
  },
  {
   "cell_type": "code",
   "execution_count": 7,
   "id": "62fd2e55",
   "metadata": {},
   "outputs": [],
   "source": [
    "heading = []"
   ]
  },
  {
   "cell_type": "code",
   "execution_count": 8,
   "id": "676ff26e",
   "metadata": {},
   "outputs": [],
   "source": [
    "for i in bs.find_all('a',class_='entry-title-link'):\n",
    "    heading.append(i.text)"
   ]
  },
  {
   "cell_type": "code",
   "execution_count": 9,
   "id": "2f37023e",
   "metadata": {},
   "outputs": [
    {
     "data": {
      "text/plain": [
       "['Python Tutorial: Zip Files – Creating and Extracting Zip Archives',\n",
       " 'Python Data Science Tutorial: Analyzing the 2019 Stack Overflow Developer Survey',\n",
       " 'Python Multiprocessing Tutorial: Run Code in Parallel Using the Multiprocessing Module',\n",
       " 'Python Threading Tutorial: Run Code Concurrently Using the Threading Module',\n",
       " 'Update (2019-09-03)',\n",
       " 'Python Quick Tip: The Difference Between “==” and “is” (Equality vs Identity)',\n",
       " 'Python Tutorial: Calling External Commands Using the Subprocess Module',\n",
       " 'Visual Studio Code (Windows) – Setting up a Python Development Environment and Complete Overview',\n",
       " 'Visual Studio Code (Mac) – Setting up a Python Development Environment and Complete Overview',\n",
       " 'Clarifying the Issues with Mutable Default Arguments']"
      ]
     },
     "execution_count": 9,
     "metadata": {},
     "output_type": "execute_result"
    }
   ],
   "source": [
    "heading"
   ]
  },
  {
   "cell_type": "code",
   "execution_count": 10,
   "id": "abcd73a6",
   "metadata": {},
   "outputs": [],
   "source": [
    "time = []"
   ]
  },
  {
   "cell_type": "code",
   "execution_count": 11,
   "id": "446b5ecb",
   "metadata": {},
   "outputs": [],
   "source": [
    "for i in bs.find_all('time',class_='entry-time'):\n",
    "    time.append(i.text)"
   ]
  },
  {
   "cell_type": "code",
   "execution_count": 12,
   "id": "7683737e",
   "metadata": {},
   "outputs": [
    {
     "data": {
      "text/plain": [
       "['November 19, 2019',\n",
       " 'October 17, 2019',\n",
       " 'September 21, 2019',\n",
       " 'September 12, 2019',\n",
       " 'September 3, 2019',\n",
       " 'August 6, 2019',\n",
       " 'July 24, 2019',\n",
       " 'May 1, 2019',\n",
       " 'May 1, 2019',\n",
       " 'April 24, 2019']"
      ]
     },
     "execution_count": 12,
     "metadata": {},
     "output_type": "execute_result"
    }
   ],
   "source": [
    "time"
   ]
  },
  {
   "cell_type": "code",
   "execution_count": 13,
   "id": "91a77fc4",
   "metadata": {},
   "outputs": [],
   "source": [
    "content = []"
   ]
  },
  {
   "cell_type": "code",
   "execution_count": 14,
   "id": "a768df15",
   "metadata": {},
   "outputs": [],
   "source": [
    "for i in bs.find_all('div',class_='entry-content'):\n",
    "    content.append(i.text.strip())"
   ]
  },
  {
   "cell_type": "code",
   "execution_count": 15,
   "id": "92ff0313",
   "metadata": {},
   "outputs": [
    {
     "data": {
      "text/plain": [
       "['In this video, we will be learning how to create and extract zip archives. We will start by using the zipfile module, and then we will see how to do this using the shutil module. We will learn how to do this with single files and directories, as well as learning how to use gzip as well. Let’s get started…',\n",
       " 'In this Python Programming video, we will be learning how to download and analyze real-world data from the 2019 Stack Overflow Developer Survey. This is terrific practice for anyone getting into the data science field. We will learn different ways to analyze this data and also some best practices. Let’s get started…',\n",
       " 'In this Python Programming video, we will be learning how to run code in parallel using the multiprocessing module. We will also look at how to process multiple high-resolution images at the same time using a ProcessPoolExecutor from the concurrent.futures module. Let’s get started…',\n",
       " 'In this Python Programming video, we will be learning how to run threads concurrently using the threading module. We will also look at how to download multiple high-resolution images online using a ThreadPoolExecutor from the concurrent.futures module. Let’s get started…',\n",
       " 'Hey everyone. I wanted to give you an update on my videos. I will be releasing videos on threading and multiprocessing within the next week. Thanks so much for your patience. I currently have a temporary recording studio setup at my Airbnb that will allow me to record and edit the threading/multiprocessing videos. I am going to be moving into my new house in 10 days and once I have my recording studio setup then you can expect much faster video releases. I really appreciate how patient everyone has been while I go through this move, especially those of you who are contributing monthly through YouTube',\n",
       " 'In this Python Programming Tutorial, we will be learning the difference between using “==” and the “is” keyword when doing comparisons. The difference between these is that “==” checks to see if values are equal, and the “is” keyword checks their identity, which means it’s going to check if the values are identical in terms of being the same object in memory. We’ll learn more in the video. Let’s get started…',\n",
       " 'In this Python Programming Tutorial, we will be learning how to run external commands using the subprocess module from the standard library. We will learn how to run commands, capture the output, handle errors, and also how to pipe output into other commands. Let’s get started…',\n",
       " 'In this Python Programming Tutorial, we will be learning how to set up a Python development environment in VSCode on Windows. VSCode is a very nice free editor for writing Python applications and many developers are now switching over to this editor. In this video, we will learn how to install VSCode, get the Python extension installed, how to change Python interpreters, create virtual environments, format/lint our code, how to use Git within VSCode, how to debug our programs, how unit testing works, and more. We have a lot to cover, so let’s go ahead and get started…\\nVSCode on MacOS – https://youtu.be/06I63_p-2A4\\nTimestamps for topics in this tutorial: Installation – 1:13 Python Extension – 5:48 Switching Interpreters – 10:04 Changing Color Themes – 12:35 VSCode Settings – 16:16 Set Default Python – 21:33 Using Virtual Environments – 25:10 IntelliSense – 29:45 Code Formatting – 32:13 Code Linting – 37:06 Code Runner Extension – 39:42 Git Integration – 47:44 Use Different Terminal – 51:07 Debugging – 58:45 Unit Testing – 1:03:25 Zen Mode – 1:09:55',\n",
       " 'In this Python Programming Tutorial, we will be learning how to set up a Python development environment in VSCode on MacOS. VSCode is a very nice free editor for writing Python applications and many developers are now switching over to this editor. In this video, we will learn how to install VSCode, get the Python extension installed, how to change Python interpreters, create virtual environments, format/lint our code, how to use Git within VSCode, how to debug our programs, how unit testing works, and more. We have a lot to cover, so let’s go ahead and get started…\\nVSCode on Windows – https://youtu.be/-nh9rCzPJ20\\nTimestamps for topics in this tutorial: Installation – 1:11 Python Extension – 6:21 Switching Interpreters – 10:16 Changing Color Themes – 13:08 VSCode Settings – 17:12 Set Default Python – 22:24 Using Virtual Environments – 25:52 IntelliSense – 30:28 Code Formatting – 33:08 Code Linting – 38:01 Code Runner Extension – 40:45 Git Integration – 49:05 Debugging – 58:15 Unit Testing – 1:02:38 Zen Mode – 1:10:42',\n",
       " 'In this Python Programming Tutorial, we will be clarifying the issues with mutable default arguments. We discussed this in my last video titled “5 Common Python Mistakes and How to Fix Them”, but I received many comments from people who were still confused. So we will be doing a deeper dive to explain exactly what is going on here. Let’s get started…']"
      ]
     },
     "execution_count": 15,
     "metadata": {},
     "output_type": "execute_result"
    }
   ],
   "source": [
    "content"
   ]
  },
  {
   "cell_type": "code",
   "execution_count": 16,
   "id": "dc84d8d4",
   "metadata": {},
   "outputs": [],
   "source": [
    "video = []"
   ]
  },
  {
   "cell_type": "code",
   "execution_count": 17,
   "id": "8189e027",
   "metadata": {},
   "outputs": [],
   "source": [
    "for i in bs.find_all('iframe'):\n",
    "    response = requests.get(i.get('src'))\n",
    "    bs2 = BeautifulSoup(response.content)\n",
    "    b=1\n",
    "    for j in bs2.find_all('link'):\n",
    "        if(b==2):\n",
    "            k = j.get('href')\n",
    "            video.append(k)\n",
    "        b+=1"
   ]
  },
  {
   "cell_type": "code",
   "execution_count": 18,
   "id": "9c73d3bd",
   "metadata": {},
   "outputs": [
    {
     "data": {
      "text/plain": [
       "['https://www.youtube.com/watch?v=z0gguhEmWiY',\n",
       " 'https://www.youtube.com/watch?v=_P7X8tMplsw',\n",
       " 'https://www.youtube.com/watch?v=fKl2JW_qrso',\n",
       " 'https://www.youtube.com/watch?v=IEEhzQoKtQU',\n",
       " 'https://www.youtube.com/watch?v=mO_dS3rXDIs',\n",
       " 'https://www.youtube.com/watch?v=2Fp1N6dof0Y',\n",
       " 'https://www.youtube.com/watch?v=-nh9rCzPJ20',\n",
       " 'https://www.youtube.com/watch?v=06I63_p-2A4',\n",
       " 'https://www.youtube.com/watch?v=_JGmemuINww']"
      ]
     },
     "execution_count": 18,
     "metadata": {},
     "output_type": "execute_result"
    }
   ],
   "source": [
    "video"
   ]
  },
  {
   "cell_type": "code",
   "execution_count": null,
   "id": "89199425",
   "metadata": {},
   "outputs": [],
   "source": []
  }
 ],
 "metadata": {
  "kernelspec": {
   "display_name": "Python 3",
   "language": "python",
   "name": "python3"
  },
  "language_info": {
   "codemirror_mode": {
    "name": "ipython",
    "version": 3
   },
   "file_extension": ".py",
   "mimetype": "text/x-python",
   "name": "python",
   "nbconvert_exporter": "python",
   "pygments_lexer": "ipython3",
   "version": "3.8.8"
  }
 },
 "nbformat": 4,
 "nbformat_minor": 5
}
